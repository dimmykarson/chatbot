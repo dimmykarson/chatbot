{
 "cells": [
  {
   "cell_type": "code",
   "execution_count": 93,
   "metadata": {},
   "outputs": [],
   "source": [
    "import openai, os\n",
    "from dotenv import load_dotenv\n",
    "import shutil\n",
    "\n",
    "load_dotenv()\n",
    "\n",
    "openai_key = os.getenv('OPENAI_API_KEY')\n",
    "model = os.getenv('OPENAI_MODEL', 'gpt-4o-mini')\n",
    "client = openai.Client(api_key=openai_key)"
   ]
  },
  {
   "cell_type": "markdown",
   "metadata": {},
   "source": [
    "## Crianto Storage Vector"
   ]
  },
  {
   "cell_type": "code",
   "execution_count": 94,
   "metadata": {},
   "outputs": [
    {
     "name": "stdout",
     "output_type": "stream",
     "text": [
      "Quantidade de arquivos a serem processados:  1\n"
     ]
    },
    {
     "data": {
      "text/plain": [
       "['data/Comunicado - Catracas (tags).pdf']"
      ]
     },
     "execution_count": 94,
     "metadata": {},
     "output_type": "execute_result"
    }
   ],
   "source": [
    "# carregando todos os arquivos disponíveis da pasta data\n",
    "files = os.listdir('data')\n",
    "#filtar apenas os arquivos PDF\n",
    "files = [file for file in files if file.endswith('.pdf')]\n",
    "#verificar se o arquivo já existe na pasta data/generated com um sufixo _generated\n",
    "files = [file for file in files if not os.path.isfile(f'data/generated/{file}_generated')]\n",
    "#adicionar prefixo data aos arquivos\n",
    "files = ['data/' + file for file in files]\n",
    "print(\"Quantidade de arquivos a serem processados: \", len(files))\n",
    "files\n"
   ]
  },
  {
   "cell_type": "code",
   "execution_count": 95,
   "metadata": {},
   "outputs": [
    {
     "name": "stdout",
     "output_type": "stream",
     "text": [
      "ID do assistente:  asst_sJ7bR7ODfykH7DmOPCi29iar\n",
      "ID do vector store:  vs_cHKbLWj0alqbfTyl1clP4LdL\n",
      "Assistant(id='asst_sJ7bR7ODfykH7DmOPCi29iar', created_at=1724511079, description=None, instructions='Seu nome é Athena.\\nO nome da faculdade é Instituto de Ensino Superior - iCEV\\nNo primeiro contato, sempre Athena deve perguntar o nome da pessoa com quem está falando.\\nObjetivo Geral:\\nO chatbot da faculdade iCEV será responsável por responder perguntas dos alunos sobre o manual do estudante, rotinas acadêmicas, procedimentos administrativos, eventos, prazos, e outros processos relacionados à vida universitária.\\n\\n1. Escopo de Atendimento\\nManuais e Normas:\\nFornecer informações sobre o manual do estudante, incluindo normas de conduta, diretrizes acadêmicas, e procedimentos de avaliação.\\nRotinas Acadêmicas:\\nResponder sobre horários de aulas, calendário acadêmico, prazos de matrícula, e outros procedimentos relacionados ao semestre letivo.\\nProcessos Administrativos:\\nOrientar sobre processos de matrícula, trancamento de disciplinas, emissão de documentos (histórico escolar, declarações), e solicitações de segunda chamada para avaliações.\\nEventos e Atividades:\\nInformar sobre eventos acadêmicos, palestras, seminários, e atividades extracurriculares promovidas pela faculdade.\\nSuporte Técnico:\\nAjudar com questões relacionadas ao acesso ao portal do aluno, sistema de e-mails acadêmicos, e outras plataformas digitais usadas pela iCEV.\\n2. Tonalidade e Linguagem\\nTonalidade: Amigável, profissional, e acolhedora, refletindo o ambiente inclusivo e inovador da iCEV.\\nLinguagem: Simples e clara, evitando jargões técnicos, com foco na compreensão fácil e rápida pelo aluno.\\n3. Restrições e Limitações\\nO chatbot não deve fornecer informações pessoais ou confidenciais sobre alunos ou funcionários.\\nQuestões que exigem uma análise mais detalhada ou que são fora do escopo do chatbot devem ser encaminhadas para o setor apropriado, com instruções claras sobre como o aluno deve proceder.\\nO chatbot deve ser programado para reconhecer perguntas frequentes e fornecer respostas consistentes. Questões novas ou incomuns devem ser registradas para revisão e possível adição ao banco de dados de respostas.\\n4. Operacionalização\\nAtualizações Regulares: O conteúdo do chatbot deve ser atualizado regularmente para refletir mudanças no manual, procedimentos ou novas informações.\\nFeedback dos Usuários: Coletar feedback dos alunos sobre a eficácia do chatbot para melhorar continuamente o serviço.\\nMonitoramento de Respostas: Garantir que as respostas estejam corretas e alinhadas com as diretrizes da faculdade.\\n5. Exemplos de Perguntas Frequentes\\nManuais e Normas: \"Quais são as regras para trancamento de disciplinas?\"\\nRotinas Acadêmicas: \"Quando começa o período de matrículas?\"\\nProcessos Administrativos: \"Como posso solicitar meu histórico escolar?\"\\nEventos e Atividades: \"Quais eventos estão programados para este semestre?\"\\nSuporte Técnico: \"Estou com problemas para acessar o portal do aluno. Como posso resolver isso?\"\\n6. Encaminhamentos\\nDúvidas não Resolvidas: Se o chatbot não conseguir responder uma pergunta, ele deve fornecer as informações de contato da secretaria ou do departamento responsável.\\nInterações Humanas: Sempre que necessário, oferecer a opção de falar diretamente com um atendente humano ou agendar uma consulta.\\n\\nResponda apenas com dados do vector store.', metadata={}, model='gpt-4o-mini', name='Assistente Faculdade iCEV', object='assistant', tools=[FileSearchTool(type='file_search', file_search=None)], response_format=ResponseFormatText(type='text'), temperature=1.0, tool_resources=ToolResources(code_interpreter=None, file_search=ToolResourcesFileSearch(vector_store_ids=['vs_cHKbLWj0alqbfTyl1clP4LdL'])), top_p=1.0)\n",
      "VectorStore(id='vs_cHKbLWj0alqbfTyl1clP4LdL', created_at=1724511373, file_counts=FileCounts(cancelled=0, completed=1, failed=0, in_progress=0, total=1), last_active_at=1724519900, metadata={}, name='VS_iCEV', object='vector_store', status='completed', usage_bytes=149535, expires_after=None, expires_at=None)\n"
     ]
    }
   ],
   "source": [
    "def upload_file(filename):\n",
    "    file = client.files.create(\n",
    "        file=open(filename, \"rb\"),\n",
    "        purpose=\"fine-tune\"\n",
    "    )\n",
    "    return file\n",
    "\n",
    "assistant_id = os.getenv('OPENAI_ASSISTANT_ID')\n",
    "vector_store_id = os.getenv('OPENAI_VECTOR_STORE_ID')\n",
    "print(\"ID do assistente: \", assistant_id)\n",
    "print(\"ID do vector store: \", vector_store_id)\n",
    "\n",
    "\n",
    "\n",
    "assistant = client.beta.assistants.retrieve(assistant_id)\n",
    "print(assistant)\n",
    "vector_store = client.beta.vector_stores.retrieve(vector_store_id)\n",
    "print(vector_store)"
   ]
  },
  {
   "cell_type": "code",
   "execution_count": 96,
   "metadata": {},
   "outputs": [
    {
     "data": {
      "text/plain": [
       "['data/Comunicado - Catracas (tags).pdf']"
      ]
     },
     "execution_count": 96,
     "metadata": {},
     "output_type": "execute_result"
    }
   ],
   "source": [
    "files"
   ]
  },
  {
   "cell_type": "code",
   "execution_count": 97,
   "metadata": {},
   "outputs": [
    {
     "ename": "FileNotFoundError",
     "evalue": "[WinError 3] O sistema não pode encontrar o caminho especificado",
     "output_type": "error",
     "traceback": [
      "\u001b[1;31m---------------------------------------------------------------------------\u001b[0m",
      "\u001b[1;31mFileNotFoundError\u001b[0m                         Traceback (most recent call last)",
      "Cell \u001b[1;32mIn[97], line 17\u001b[0m\n\u001b[0;32m     14\u001b[0m     \u001b[38;5;28mprint\u001b[39m(\u001b[38;5;124mf\u001b[39m\u001b[38;5;124m\"\u001b[39m\u001b[38;5;124mArquivo copiado e renomeado para: \u001b[39m\u001b[38;5;132;01m{\u001b[39;00mdestination_path\u001b[38;5;132;01m}\u001b[39;00m\u001b[38;5;124m\"\u001b[39m)\n\u001b[0;32m     16\u001b[0m \u001b[38;5;28;01mfor\u001b[39;00m file \u001b[38;5;129;01min\u001b[39;00m files:\n\u001b[1;32m---> 17\u001b[0m     \u001b[43mcopy_and_rename_file\u001b[49m\u001b[43m(\u001b[49m\u001b[38;5;124;43m\"\u001b[39;49m\u001b[38;5;124;43mdata/\u001b[39;49m\u001b[38;5;124;43m\"\u001b[39;49m\u001b[38;5;241;43m+\u001b[39;49m\u001b[43mfile\u001b[49m\u001b[43m,\u001b[49m\u001b[43m \u001b[49m\u001b[38;5;124;43m'\u001b[39;49m\u001b[38;5;124;43mdata/generated\u001b[39;49m\u001b[38;5;124;43m'\u001b[39;49m\u001b[43m,\u001b[49m\u001b[43m \u001b[49m\u001b[43mfile\u001b[49m\u001b[43m \u001b[49m\u001b[38;5;241;43m+\u001b[39;49m\u001b[43m \u001b[49m\u001b[38;5;124;43m'\u001b[39;49m\u001b[38;5;124;43m_generated\u001b[39;49m\u001b[38;5;124;43m'\u001b[39;49m\u001b[43m)\u001b[49m\n",
      "Cell \u001b[1;32mIn[97], line 13\u001b[0m, in \u001b[0;36mcopy_and_rename_file\u001b[1;34m(source_path, destination_directory, new_name)\u001b[0m\n\u001b[0;32m     10\u001b[0m destination_path \u001b[38;5;241m=\u001b[39m os\u001b[38;5;241m.\u001b[39mpath\u001b[38;5;241m.\u001b[39mjoin(destination_directory, new_name)\n\u001b[0;32m     12\u001b[0m \u001b[38;5;66;03m# Copia o arquivo original para o novo destino com o novo nome\u001b[39;00m\n\u001b[1;32m---> 13\u001b[0m \u001b[43mshutil\u001b[49m\u001b[38;5;241;43m.\u001b[39;49m\u001b[43mcopy2\u001b[49m\u001b[43m(\u001b[49m\u001b[43msource_path\u001b[49m\u001b[43m,\u001b[49m\u001b[43m \u001b[49m\u001b[43mdestination_path\u001b[49m\u001b[43m)\u001b[49m\n\u001b[0;32m     14\u001b[0m \u001b[38;5;28mprint\u001b[39m(\u001b[38;5;124mf\u001b[39m\u001b[38;5;124m\"\u001b[39m\u001b[38;5;124mArquivo copiado e renomeado para: \u001b[39m\u001b[38;5;132;01m{\u001b[39;00mdestination_path\u001b[38;5;132;01m}\u001b[39;00m\u001b[38;5;124m\"\u001b[39m)\n",
      "File \u001b[1;32mC:\\Program Files\\WindowsApps\\PythonSoftwareFoundation.Python.3.12_3.12.1520.0_x64__qbz5n2kfra8p0\\Lib\\shutil.py:460\u001b[0m, in \u001b[0;36mcopy2\u001b[1;34m(src, dst, follow_symlinks)\u001b[0m\n\u001b[0;32m    458\u001b[0m     flags \u001b[38;5;241m|\u001b[39m\u001b[38;5;241m=\u001b[39m _winapi\u001b[38;5;241m.\u001b[39mCOPY_FILE_COPY_SYMLINK\n\u001b[0;32m    459\u001b[0m \u001b[38;5;28;01mtry\u001b[39;00m:\n\u001b[1;32m--> 460\u001b[0m     \u001b[43m_winapi\u001b[49m\u001b[38;5;241;43m.\u001b[39;49m\u001b[43mCopyFile2\u001b[49m\u001b[43m(\u001b[49m\u001b[43msrc_\u001b[49m\u001b[43m,\u001b[49m\u001b[43m \u001b[49m\u001b[43mdst_\u001b[49m\u001b[43m,\u001b[49m\u001b[43m \u001b[49m\u001b[43mflags\u001b[49m\u001b[43m)\u001b[49m\n\u001b[0;32m    461\u001b[0m     \u001b[38;5;28;01mreturn\u001b[39;00m dst\n\u001b[0;32m    462\u001b[0m \u001b[38;5;28;01mexcept\u001b[39;00m \u001b[38;5;167;01mOSError\u001b[39;00m \u001b[38;5;28;01mas\u001b[39;00m exc:\n",
      "\u001b[1;31mFileNotFoundError\u001b[0m: [WinError 3] O sistema não pode encontrar o caminho especificado"
     ]
    }
   ],
   "source": [
    "files_stream = [open(f, \"rb\") for f in files]\n",
    "if len(files_stream)>0:\n",
    "    file_batch = client.beta.vector_stores.file_batches.upload_and_poll(\n",
    "        vector_store_id=vector_store.id,\n",
    "        files=files_stream\n",
    "    )"
   ]
  },
  {
   "cell_type": "code",
   "execution_count": 99,
   "metadata": {},
   "outputs": [
    {
     "name": "stdout",
     "output_type": "stream",
     "text": [
      "Copiando de data/Comunicado - Catracas (tags).pdf para data/generated\\data/Comunicado - Catracas (tags).pdf_generated\n"
     ]
    },
    {
     "ename": "FileNotFoundError",
     "evalue": "[WinError 3] O sistema não pode encontrar o caminho especificado",
     "output_type": "error",
     "traceback": [
      "\u001b[1;31m---------------------------------------------------------------------------\u001b[0m",
      "\u001b[1;31mFileNotFoundError\u001b[0m                         Traceback (most recent call last)",
      "Cell \u001b[1;32mIn[99], line 10\u001b[0m\n\u001b[0;32m      7\u001b[0m     \u001b[38;5;28mprint\u001b[39m(\u001b[38;5;124mf\u001b[39m\u001b[38;5;124m\"\u001b[39m\u001b[38;5;124mArquivo copiado e renomeado para: \u001b[39m\u001b[38;5;132;01m{\u001b[39;00mdestination_path\u001b[38;5;132;01m}\u001b[39;00m\u001b[38;5;124m\"\u001b[39m)\n\u001b[0;32m      9\u001b[0m \u001b[38;5;28;01mfor\u001b[39;00m file \u001b[38;5;129;01min\u001b[39;00m files:\n\u001b[1;32m---> 10\u001b[0m     \u001b[43mcopy_and_rename_file\u001b[49m\u001b[43m(\u001b[49m\u001b[43mfile\u001b[49m\u001b[43m,\u001b[49m\u001b[43m \u001b[49m\u001b[38;5;124;43m'\u001b[39;49m\u001b[38;5;124;43mdata/generated\u001b[39;49m\u001b[38;5;124;43m'\u001b[39;49m\u001b[43m,\u001b[49m\u001b[43m \u001b[49m\u001b[43mfile\u001b[49m\u001b[43m \u001b[49m\u001b[38;5;241;43m+\u001b[39;49m\u001b[43m \u001b[49m\u001b[38;5;124;43m'\u001b[39;49m\u001b[38;5;124;43m_generated\u001b[39;49m\u001b[38;5;124;43m'\u001b[39;49m\u001b[43m)\u001b[49m\n",
      "Cell \u001b[1;32mIn[99], line 6\u001b[0m, in \u001b[0;36mcopy_and_rename_file\u001b[1;34m(source_path, destination_directory, new_name)\u001b[0m\n\u001b[0;32m      4\u001b[0m \u001b[38;5;28mprint\u001b[39m(\u001b[38;5;124m\"\u001b[39m\u001b[38;5;124mCopiando de \u001b[39m\u001b[38;5;132;01m{}\u001b[39;00m\u001b[38;5;124m para \u001b[39m\u001b[38;5;132;01m{}\u001b[39;00m\u001b[38;5;124m\"\u001b[39m\u001b[38;5;241m.\u001b[39mformat(source_path, destination_path))\n\u001b[0;32m      5\u001b[0m \u001b[38;5;66;03m# Copia o arquivo original para o novo destino com o novo nome\u001b[39;00m\n\u001b[1;32m----> 6\u001b[0m \u001b[43mshutil\u001b[49m\u001b[38;5;241;43m.\u001b[39;49m\u001b[43mcopy2\u001b[49m\u001b[43m(\u001b[49m\u001b[43msource_path\u001b[49m\u001b[43m,\u001b[49m\u001b[43m \u001b[49m\u001b[43mdestination_path\u001b[49m\u001b[43m)\u001b[49m\n\u001b[0;32m      7\u001b[0m \u001b[38;5;28mprint\u001b[39m(\u001b[38;5;124mf\u001b[39m\u001b[38;5;124m\"\u001b[39m\u001b[38;5;124mArquivo copiado e renomeado para: \u001b[39m\u001b[38;5;132;01m{\u001b[39;00mdestination_path\u001b[38;5;132;01m}\u001b[39;00m\u001b[38;5;124m\"\u001b[39m)\n",
      "File \u001b[1;32mC:\\Program Files\\WindowsApps\\PythonSoftwareFoundation.Python.3.12_3.12.1520.0_x64__qbz5n2kfra8p0\\Lib\\shutil.py:460\u001b[0m, in \u001b[0;36mcopy2\u001b[1;34m(src, dst, follow_symlinks)\u001b[0m\n\u001b[0;32m    458\u001b[0m     flags \u001b[38;5;241m|\u001b[39m\u001b[38;5;241m=\u001b[39m _winapi\u001b[38;5;241m.\u001b[39mCOPY_FILE_COPY_SYMLINK\n\u001b[0;32m    459\u001b[0m \u001b[38;5;28;01mtry\u001b[39;00m:\n\u001b[1;32m--> 460\u001b[0m     \u001b[43m_winapi\u001b[49m\u001b[38;5;241;43m.\u001b[39;49m\u001b[43mCopyFile2\u001b[49m\u001b[43m(\u001b[49m\u001b[43msrc_\u001b[49m\u001b[43m,\u001b[49m\u001b[43m \u001b[49m\u001b[43mdst_\u001b[49m\u001b[43m,\u001b[49m\u001b[43m \u001b[49m\u001b[43mflags\u001b[49m\u001b[43m)\u001b[49m\n\u001b[0;32m    461\u001b[0m     \u001b[38;5;28;01mreturn\u001b[39;00m dst\n\u001b[0;32m    462\u001b[0m \u001b[38;5;28;01mexcept\u001b[39;00m \u001b[38;5;167;01mOSError\u001b[39;00m \u001b[38;5;28;01mas\u001b[39;00m exc:\n",
      "\u001b[1;31mFileNotFoundError\u001b[0m: [WinError 3] O sistema não pode encontrar o caminho especificado"
     ]
    }
   ],
   "source": [
    "\n",
    "def copy_and_rename_file(source_path, destination_directory, new_name):\n",
    "    # Define o caminho completo para o novo arquivo renomeado\n",
    "    destination_path = os.path.join(destination_directory, new_name)\n",
    "    print(\"Copiando de {} para {}\".format(source_path, destination_path))\n",
    "    # Copia o arquivo original para o novo destino com o novo nome\n",
    "    shutil.copy2(source_path, destination_path)\n",
    "    print(f\"Arquivo copiado e renomeado para: {destination_path}\")\n",
    "    \n",
    "for file in files:\n",
    "    copy_and_rename_file(file, 'data/generated', file.replace(\"data/\", \"\") + '_generated')"
   ]
  }
 ],
 "metadata": {
  "kernelspec": {
   "display_name": "env",
   "language": "python",
   "name": "python3"
  },
  "language_info": {
   "codemirror_mode": {
    "name": "ipython",
    "version": 3
   },
   "file_extension": ".py",
   "mimetype": "text/x-python",
   "name": "python",
   "nbconvert_exporter": "python",
   "pygments_lexer": "ipython3",
   "version": "3.12.5"
  }
 },
 "nbformat": 4,
 "nbformat_minor": 2
}
